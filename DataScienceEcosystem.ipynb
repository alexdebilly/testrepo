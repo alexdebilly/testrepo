{
 "cells": [
  {
   "cell_type": "markdown",
   "id": "c37ee1b9-d1f7-40ab-b0fd-74883be18a2b",
   "metadata": {},
   "source": [
    "# Data Science Tools and Ecosystem"
   ]
  },
  {
   "cell_type": "markdown",
   "id": "a410f441-b0a9-4e4d-94b8-800f09fdb5e8",
   "metadata": {},
   "source": [
    "In this notebook, Data Science Tools and Ecosystem are summarized.\n"
   ]
  },
  {
   "cell_type": "markdown",
   "id": "069d92f9-4790-4bd7-9c70-1cd075653c0a",
   "metadata": {},
   "source": [
    "Some of the popular languages that Data Scientists use are:\n",
    "1. Python\n",
    "2. R\n",
    "3. Java"
   ]
  },
  {
   "cell_type": "markdown",
   "id": "da405593-eab3-4002-9836-430606c007dd",
   "metadata": {},
   "source": [
    "Some of the commonly used libraries used by Data Scientists include:\n",
    "* Matplotlib\n",
    "* Panda\n",
    "* Numpy"
   ]
  },
  {
   "cell_type": "markdown",
   "id": "ea19e2f8-7a7d-405c-bdf5-1dce44e967d8",
   "metadata": {},
   "source": [
    "Data Science Tools | \n",
    "------------------ |\n",
    "Jupyter Notebook |\n",
    "R Studio |\n",
    "Git Hub |"
   ]
  },
  {
   "cell_type": "markdown",
   "id": "7d5ec44a-be2e-4fdf-be4e-e2bb025c7630",
   "metadata": {},
   "source": [
    "### Below are a few examples of evaluating arithmetic expressions in Python.\n"
   ]
  },
  {
   "cell_type": "markdown",
   "id": "8cc3d990-3fb6-4909-a1a3-0daeaddbb52d",
   "metadata": {},
   "source": [
    "This a simple arithmetic expression to mutiply then add integers."
   ]
  },
  {
   "cell_type": "code",
   "execution_count": 4,
   "id": "967fb8d8-71c8-4e85-a368-ae8aca610b51",
   "metadata": {},
   "outputs": [
    {
     "data": {
      "text/plain": [
       "17"
      ]
     },
     "execution_count": 4,
     "metadata": {},
     "output_type": "execute_result"
    }
   ],
   "source": [
    "(3*4)+5"
   ]
  },
  {
   "cell_type": "markdown",
   "id": "6770811b-1558-400e-8779-fbec0785610a",
   "metadata": {},
   "source": [
    "This will convert 200 minutes to hours by diving by 60"
   ]
  },
  {
   "cell_type": "code",
   "execution_count": 5,
   "id": "3fbedec9-be6f-4963-a9a9-ce2e5998b9e1",
   "metadata": {},
   "outputs": [
    {
     "data": {
      "text/plain": [
       "3.3333333333333335"
      ]
     },
     "execution_count": 5,
     "metadata": {},
     "output_type": "execute_result"
    }
   ],
   "source": [
    "200/60"
   ]
  },
  {
   "cell_type": "markdown",
   "id": "80a69bc2-e424-4bf5-a306-8b3bd0a1491e",
   "metadata": {},
   "source": [
    "**Objectives:**\n",
    "* List popular languages for Data Science\n",
    "* List popular libraries for Data Science\n",
    "* List popular open source environement for Data Science\n",
    "                      "
   ]
  },
  {
   "cell_type": "markdown",
   "id": "73c9815c-1810-44b6-add5-ddff4cdd0583",
   "metadata": {},
   "source": [
    "## Autor\n",
    "Alexandre"
   ]
  },
  {
   "cell_type": "code",
   "execution_count": null,
   "id": "dd5214a9-dc6a-40e8-96f8-8e3825cab599",
   "metadata": {},
   "outputs": [],
   "source": []
  }
 ],
 "metadata": {
  "kernelspec": {
   "display_name": "Python 3 (ipykernel)",
   "language": "python",
   "name": "python3"
  },
  "language_info": {
   "codemirror_mode": {
    "name": "ipython",
    "version": 3
   },
   "file_extension": ".py",
   "mimetype": "text/x-python",
   "name": "python",
   "nbconvert_exporter": "python",
   "pygments_lexer": "ipython3",
   "version": "3.12.8"
  }
 },
 "nbformat": 4,
 "nbformat_minor": 5
}
